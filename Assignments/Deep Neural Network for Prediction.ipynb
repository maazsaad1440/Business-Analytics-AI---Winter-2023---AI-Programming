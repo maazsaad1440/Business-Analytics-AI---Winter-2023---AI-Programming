{
  "nbformat": 4,
  "nbformat_minor": 0,
  "metadata": {
    "colab": {
      "provenance": []
    },
    "kernelspec": {
      "name": "python3",
      "display_name": "Python 3"
    },
    "language_info": {
      "name": "python"
    }
  },
  "cells": [
    {
      "cell_type": "code",
      "source": [
        "# Question 2\n",
        "\n",
        "# Load the dataset\n",
        "import pandas as pd\n",
        "auto = pd.read_csv('https://archive.ics.uci.edu/ml/machine-learning-databases/auto-mpg/auto-mpg.data', \n",
        "                   delim_whitespace = True, header=None, names = ['mpg', 'cyls', 'disp', 'hp', \n",
        "                                                                  'weight', 'accel', 'model', 'orig', 'name'])\n",
        "\n",
        "# Question 2(a)\n",
        "# Drop the name and origin attributes\n",
        "\n",
        "auto = auto.drop(['orig', 'name'], axis=1)\n",
        "\n",
        "# Question 2(b)\n",
        "# Source: January_24_MBAI5310_In_Class_Exercise_auto_mpg_Decision_Trees_and_PCA_for_release\n",
        "\n",
        "hp_sum = [0.0]*9; hp_count = [0]*9 #This line creates two lists to hold the sum of hp for each cylinder\n",
        "for _ in range(auto.shape[0]): #The 0 axis is the number of rows on this dataset. This for loop is to populate hp_sum and hp_count\n",
        "    if(auto.iloc[_,3]!='?'): #We are only interested on rows that aren't missing the hp value\n",
        "        hp_sum[auto.iloc[_,1]]=hp_sum[auto.iloc[_,1]]+float(auto.iloc[_,3]) #This line adds up the hp value for the corresponding # of cylinders\n",
        "        hp_count[auto.iloc[_,1]]+=1 #This line adds the counter for the corresponding number of cylinders\n",
        "for _ in range(auto.shape[0]): #This for loop fills in the average hp for the corresponding cylinders when hp is missing\n",
        "    if(auto.iloc[_,3]=='?'):\n",
        "        auto.iloc[_,3] = hp_sum[auto.iloc[_,1]]/hp_count[auto.iloc[_,1]]\n",
        "\n",
        "# Question 2(c)\n",
        "# Source: https://stackoverflow.com/questions/20025882/add-a-string-prefix-to-each-value-in-a-string-column-using-pandas,\n",
        "# https://stackoverflow.com/questions/39173813/pandas-convert-dtype-object-to-int\n",
        "\n",
        "auto['model'] = '19' + auto['model'].astype(str) # Add '19' before every year \n",
        "\n",
        "auto = auto.astype(float) # Convert data type to float \n",
        "\n",
        "# Question 2(d)\n",
        "# Source: https://www.tensorflow.org/tutorials/keras/regression#split_the_data_into_training_and_test_sets\n",
        "\n",
        "import matplotlib.pyplot as plt\n",
        "import numpy as np\n",
        "import pandas as pd\n",
        "\n",
        "import tensorflow as tf\n",
        "\n",
        "from tensorflow import keras\n",
        "from tensorflow.keras import layers\n",
        "\n",
        "# Split the data set into training and validation sets\n",
        "\n",
        "train_dataset = auto.sample(frac=0.5, random_state=0)\n",
        "test_dataset = auto.drop(train_dataset.index)"
      ],
      "metadata": {
        "id": "RJ6yVwo_SGne"
      },
      "execution_count": null,
      "outputs": []
    },
    {
      "cell_type": "code",
      "source": [
        "# Question 2(e)\n",
        "# Source: https://www.tensorflow.org/tutorials/keras/regression#split_the_data_into_training_and_test_sets\n",
        "\n",
        "# We seperate the target value as this is the label that we will train our model to predict.\n",
        "\n",
        "train_features = train_dataset.copy()\n",
        "test_features = test_dataset.copy()\n",
        "\n",
        "train_labels = train_features.pop('mpg')\n",
        "test_labels = test_features.pop('mpg')\n",
        "\n",
        "# We will add a normalization layer into our model\n",
        "\n",
        "normalizer = tf.keras.layers.Normalization(axis=-1) # First layer\n",
        "\n",
        "normalizer.adapt(np.array(train_features)) # We fit the state of the preprocessing layer to the data\n",
        "\n",
        "# Regression with a deep neural network (DNN)\n",
        "\n",
        "def build_and_compile_model(norm):\n",
        "  model = keras.Sequential([\n",
        "      norm,\n",
        "      layers.Dense(64, activation='relu'),\n",
        "      layers.Dense(64, activation='relu'),\n",
        "      layers.Dense(1)\n",
        "  ])\n",
        "\n",
        "  model.compile(loss='mean_absolute_error',\n",
        "                optimizer=tf.keras.optimizers.Adam(0.001))\n",
        "  return model\n",
        "\n",
        "dnn_model = build_and_compile_model(normalizer)\n",
        "dnn_model.summary()"
      ],
      "metadata": {
        "colab": {
          "base_uri": "https://localhost:8080/"
        },
        "id": "1aIzboAiHnw9",
        "outputId": "c9a0e869-d5ce-4d5c-d4cb-d636908379f7"
      },
      "execution_count": null,
      "outputs": [
        {
          "output_type": "stream",
          "name": "stdout",
          "text": [
            "Model: \"sequential_1\"\n",
            "_________________________________________________________________\n",
            " Layer (type)                Output Shape              Param #   \n",
            "=================================================================\n",
            " normalization_1 (Normalizat  (None, 6)                13        \n",
            " ion)                                                            \n",
            "                                                                 \n",
            " dense_3 (Dense)             (None, 64)                448       \n",
            "                                                                 \n",
            " dense_4 (Dense)             (None, 64)                4160      \n",
            "                                                                 \n",
            " dense_5 (Dense)             (None, 1)                 65        \n",
            "                                                                 \n",
            "=================================================================\n",
            "Total params: 4,686\n",
            "Trainable params: 4,673\n",
            "Non-trainable params: 13\n",
            "_________________________________________________________________\n"
          ]
        }
      ]
    },
    {
      "cell_type": "code",
      "source": [
        "history = dnn_model.fit(\n",
        "    train_features,\n",
        "    train_labels,\n",
        "    validation_split=0.2,\n",
        "    verbose=0, epochs=100)\n",
        "\n",
        "#Initialize an empty list\n",
        "test_results = {}\n",
        "\n",
        "# Collect the results on the test set in the empty list\n",
        "test_results['dnn_model'] = dnn_model.evaluate(test_features, test_labels, verbose=0)\n",
        "\n",
        "# We can review the test set's performance\n",
        "pd.DataFrame(test_results, index=['Mean absolute error [MPG]'])"
      ],
      "metadata": {
        "colab": {
          "base_uri": "https://localhost:8080/",
          "height": 81
        },
        "id": "tGcz8qnoqLi-",
        "outputId": "7c40bf1f-299f-49fa-db98-19492ec97226"
      },
      "execution_count": null,
      "outputs": [
        {
          "output_type": "execute_result",
          "data": {
            "text/plain": [
              "                           dnn_model\n",
              "Mean absolute error [MPG]    2.16464"
            ],
            "text/html": [
              "\n",
              "  <div id=\"df-a4fcbf54-774d-4a95-aa59-517e0555716e\">\n",
              "    <div class=\"colab-df-container\">\n",
              "      <div>\n",
              "<style scoped>\n",
              "    .dataframe tbody tr th:only-of-type {\n",
              "        vertical-align: middle;\n",
              "    }\n",
              "\n",
              "    .dataframe tbody tr th {\n",
              "        vertical-align: top;\n",
              "    }\n",
              "\n",
              "    .dataframe thead th {\n",
              "        text-align: right;\n",
              "    }\n",
              "</style>\n",
              "<table border=\"1\" class=\"dataframe\">\n",
              "  <thead>\n",
              "    <tr style=\"text-align: right;\">\n",
              "      <th></th>\n",
              "      <th>dnn_model</th>\n",
              "    </tr>\n",
              "  </thead>\n",
              "  <tbody>\n",
              "    <tr>\n",
              "      <th>Mean absolute error [MPG]</th>\n",
              "      <td>2.16464</td>\n",
              "    </tr>\n",
              "  </tbody>\n",
              "</table>\n",
              "</div>\n",
              "      <button class=\"colab-df-convert\" onclick=\"convertToInteractive('df-a4fcbf54-774d-4a95-aa59-517e0555716e')\"\n",
              "              title=\"Convert this dataframe to an interactive table.\"\n",
              "              style=\"display:none;\">\n",
              "        \n",
              "  <svg xmlns=\"http://www.w3.org/2000/svg\" height=\"24px\"viewBox=\"0 0 24 24\"\n",
              "       width=\"24px\">\n",
              "    <path d=\"M0 0h24v24H0V0z\" fill=\"none\"/>\n",
              "    <path d=\"M18.56 5.44l.94 2.06.94-2.06 2.06-.94-2.06-.94-.94-2.06-.94 2.06-2.06.94zm-11 1L8.5 8.5l.94-2.06 2.06-.94-2.06-.94L8.5 2.5l-.94 2.06-2.06.94zm10 10l.94 2.06.94-2.06 2.06-.94-2.06-.94-.94-2.06-.94 2.06-2.06.94z\"/><path d=\"M17.41 7.96l-1.37-1.37c-.4-.4-.92-.59-1.43-.59-.52 0-1.04.2-1.43.59L10.3 9.45l-7.72 7.72c-.78.78-.78 2.05 0 2.83L4 21.41c.39.39.9.59 1.41.59.51 0 1.02-.2 1.41-.59l7.78-7.78 2.81-2.81c.8-.78.8-2.07 0-2.86zM5.41 20L4 18.59l7.72-7.72 1.47 1.35L5.41 20z\"/>\n",
              "  </svg>\n",
              "      </button>\n",
              "      \n",
              "  <style>\n",
              "    .colab-df-container {\n",
              "      display:flex;\n",
              "      flex-wrap:wrap;\n",
              "      gap: 12px;\n",
              "    }\n",
              "\n",
              "    .colab-df-convert {\n",
              "      background-color: #E8F0FE;\n",
              "      border: none;\n",
              "      border-radius: 50%;\n",
              "      cursor: pointer;\n",
              "      display: none;\n",
              "      fill: #1967D2;\n",
              "      height: 32px;\n",
              "      padding: 0 0 0 0;\n",
              "      width: 32px;\n",
              "    }\n",
              "\n",
              "    .colab-df-convert:hover {\n",
              "      background-color: #E2EBFA;\n",
              "      box-shadow: 0px 1px 2px rgba(60, 64, 67, 0.3), 0px 1px 3px 1px rgba(60, 64, 67, 0.15);\n",
              "      fill: #174EA6;\n",
              "    }\n",
              "\n",
              "    [theme=dark] .colab-df-convert {\n",
              "      background-color: #3B4455;\n",
              "      fill: #D2E3FC;\n",
              "    }\n",
              "\n",
              "    [theme=dark] .colab-df-convert:hover {\n",
              "      background-color: #434B5C;\n",
              "      box-shadow: 0px 1px 3px 1px rgba(0, 0, 0, 0.15);\n",
              "      filter: drop-shadow(0px 1px 2px rgba(0, 0, 0, 0.3));\n",
              "      fill: #FFFFFF;\n",
              "    }\n",
              "  </style>\n",
              "\n",
              "      <script>\n",
              "        const buttonEl =\n",
              "          document.querySelector('#df-a4fcbf54-774d-4a95-aa59-517e0555716e button.colab-df-convert');\n",
              "        buttonEl.style.display =\n",
              "          google.colab.kernel.accessAllowed ? 'block' : 'none';\n",
              "\n",
              "        async function convertToInteractive(key) {\n",
              "          const element = document.querySelector('#df-a4fcbf54-774d-4a95-aa59-517e0555716e');\n",
              "          const dataTable =\n",
              "            await google.colab.kernel.invokeFunction('convertToInteractive',\n",
              "                                                     [key], {});\n",
              "          if (!dataTable) return;\n",
              "\n",
              "          const docLinkHtml = 'Like what you see? Visit the ' +\n",
              "            '<a target=\"_blank\" href=https://colab.research.google.com/notebooks/data_table.ipynb>data table notebook</a>'\n",
              "            + ' to learn more about interactive tables.';\n",
              "          element.innerHTML = '';\n",
              "          dataTable['output_type'] = 'display_data';\n",
              "          await google.colab.output.renderOutput(dataTable, element);\n",
              "          const docLink = document.createElement('div');\n",
              "          docLink.innerHTML = docLinkHtml;\n",
              "          element.appendChild(docLink);\n",
              "        }\n",
              "      </script>\n",
              "    </div>\n",
              "  </div>\n",
              "  "
            ]
          },
          "metadata": {},
          "execution_count": 6
        }
      ]
    },
    {
      "cell_type": "code",
      "source": [
        "# We will now make predictions with the dnn_model on the test set using Keras\n",
        "\n",
        "test_predictions = dnn_model.predict(test_features).flatten()\n",
        "\n",
        "a = plt.axes(aspect='equal')\n",
        "plt.scatter(test_labels, test_predictions)\n",
        "plt.xlabel('True Values [MPG]')\n",
        "plt.ylabel('Predictions [MPG]')\n",
        "lims = [0, 50]\n",
        "plt.xlim(lims)\n",
        "plt.ylim(lims)\n",
        "plt.plot(lims, lims)\n",
        "\n",
        "# We see that the predicted values are quite close to the true values of MPG with just a few outliers. "
      ],
      "metadata": {
        "colab": {
          "base_uri": "https://localhost:8080/",
          "height": 320
        },
        "id": "6IRzvCUcuo9_",
        "outputId": "7c866d8e-7465-4e29-8a5d-ec590a11cdba"
      },
      "execution_count": null,
      "outputs": [
        {
          "output_type": "stream",
          "name": "stdout",
          "text": [
            "7/7 [==============================] - 0s 2ms/step\n"
          ]
        },
        {
          "output_type": "execute_result",
          "data": {
            "text/plain": [
              "[<matplotlib.lines.Line2D at 0x7faff15c6df0>]"
            ]
          },
          "metadata": {},
          "execution_count": 7
        },
        {
          "output_type": "display_data",
          "data": {
            "text/plain": [
              "<Figure size 432x288 with 1 Axes>"
            ],
            "image/png": "[encoded data removed]"
          },
          "metadata": {
            "needs_background": "light"
          }
        }
      ]
    }
  ]
}