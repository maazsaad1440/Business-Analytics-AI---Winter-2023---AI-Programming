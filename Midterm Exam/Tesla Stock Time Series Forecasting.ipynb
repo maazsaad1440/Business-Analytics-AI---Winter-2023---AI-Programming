{
  "nbformat": 4,
  "nbformat_minor": 0,
  "metadata": {
    "colab": {
      "provenance": []
    },
    "kernelspec": {
      "name": "python3",
      "display_name": "Python 3"
    },
    "accelerator": "GPU",
    "gpuClass": "standard"
  },
  "cells": [
    {
      "cell_type": "markdown",
      "source": [
        "Modified by Miguel V. Martin March 2023 from Moroney's code, for AI Programming course (MBAI5310)."
      ],
      "metadata": {
        "id": "Y9GvBuC4vFG8"
      }
    },
    {
      "cell_type": "code",
      "source": [
        "# Honour Code\n",
        "# I, Maaz Saad, hereby give my word of honour that I am the sole author of the work as submitted in the \n",
        "# answers to this midterm examination. I didn’t collaborate with anyone and didn’t let anybody copy my work. \n",
        "# If I used code written by someone else, I clearly and explicitly acknowledged the source using comments \n",
        "# within the Python code, and I am aware that I will not receive any credits solely for code written by \n",
        "# someone else. Further, I am aware that failing to clearly credit the source/author of the reused code \n",
        "# will be considered academic misconduct. I didn’t post or submit, and will never post or submit, \n",
        "# questions or answers, or parts of questions or answers of this midterm to a third party \n",
        "# (except for my submission in Canvas for this midterm)."
      ],
      "metadata": {
        "id": "VKbSamUSWNBS"
      },
      "execution_count": 1,
      "outputs": []
    },
    {
      "cell_type": "code",
      "metadata": {
        "id": "D1J15Vh_1Jih",
        "cellView": "both",
        "colab": {
          "base_uri": "https://localhost:8080/"
        },
        "outputId": "befa01f1-3517-4cae-b27d-43b67784dc6b"
      },
      "source": [
        "try:\n",
        "  # %tensorflow_version only exists in Colab.\n",
        "  %tensorflow_version 2.x\n",
        "except Exception:\n",
        "  pass\n"
      ],
      "execution_count": 2,
      "outputs": [
        {
          "output_type": "stream",
          "name": "stdout",
          "text": [
            "Colab only includes TensorFlow 2.x; %tensorflow_version has no effect.\n"
          ]
        }
      ]
    },
    {
      "cell_type": "code",
      "metadata": {
        "id": "BOjujz601HcS",
        "colab": {
          "base_uri": "https://localhost:8080/"
        },
        "outputId": "b5a33c69-59c3-421b-d7ce-628edbe6db35"
      },
      "source": [
        "import tensorflow as tf\n",
        "import numpy as np\n",
        "import matplotlib.pyplot as plt\n",
        "import pandas as pd\n",
        "tf.keras.utils.set_random_seed(42)\n",
        "print(tf.__version__)"
      ],
      "execution_count": 3,
      "outputs": [
        {
          "output_type": "stream",
          "name": "stdout",
          "text": [
            "2.11.0\n"
          ]
        }
      ]
    },
    {
      "cell_type": "code",
      "source": [
        "from google.colab import files\n",
        "my_raw_files = files.upload()"
      ],
      "metadata": {
        "colab": {
          "base_uri": "https://localhost:8080/",
          "height": 73
        },
        "id": "1Dm1mghLYHv0",
        "outputId": "09414205-67fc-42c2-de81-ac4685926ad0"
      },
      "execution_count": 4,
      "outputs": [
        {
          "output_type": "display_data",
          "data": {
            "text/plain": [
              "<IPython.core.display.HTML object>"
            ],
            "text/html": [
              "\n",
              "     <input type=\"file\" id=\"files-d0e2645c-9880-4671-bbba-babb5570baad\" name=\"files[]\" multiple disabled\n",
              "        style=\"border:none\" />\n",
              "     <output id=\"result-d0e2645c-9880-4671-bbba-babb5570baad\">\n",
              "      Upload widget is only available when the cell has been executed in the\n",
              "      current browser session. Please rerun this cell to enable.\n",
              "      </output>\n",
              "      <script>// Copyright 2017 Google LLC\n",
              "//\n",
              "// Licensed under the Apache License, Version 2.0 (the \"License\");\n",
              "// you may not use this file except in compliance with the License.\n",
              "// You may obtain a copy of the License at\n",
              "//\n",
              "//      http://www.apache.org/licenses/LICENSE-2.0\n",
              "//\n",
              "// Unless required by applicable law or agreed to in writing, software\n",
              "// distributed under the License is distributed on an \"AS IS\" BASIS,\n",
              "// WITHOUT WARRANTIES OR CONDITIONS OF ANY KIND, either express or implied.\n",
              "// See the License for the specific language governing permissions and\n",
              "// limitations under the License.\n",
              "\n",
              "/**\n",
              " * @fileoverview Helpers for google.colab Python module.\n",
              " */\n",
              "(function(scope) {\n",
              "function span(text, styleAttributes = {}) {\n",
              "  const element = document.createElement('span');\n",
              "  element.textContent = text;\n",
              "  for (const key of Object.keys(styleAttributes)) {\n",
              "    element.style[key] = styleAttributes[key];\n",
              "  }\n",
              "  return element;\n",
              "}\n",
              "\n",
              "// Max number of bytes which will be uploaded at a time.\n",
              "const MAX_PAYLOAD_SIZE = 100 * 1024;\n",
              "\n",
              "function _uploadFiles(inputId, outputId) {\n",
              "  const steps = uploadFilesStep(inputId, outputId);\n",
              "  const outputElement = document.getElementById(outputId);\n",
              "  // Cache steps on the outputElement to make it available for the next call\n",
              "  // to uploadFilesContinue from Python.\n",
              "  outputElement.steps = steps;\n",
              "\n",
              "  return _uploadFilesContinue(outputId);\n",
              "}\n",
              "\n",
              "// This is roughly an async generator (not supported in the browser yet),\n",
              "// where there are multiple asynchronous steps and the Python side is going\n",
              "// to poll for completion of each step.\n",
              "// This uses a Promise to block the python side on completion of each step,\n",
              "// then passes the result of the previous step as the input to the next step.\n",
              "function _uploadFilesContinue(outputId) {\n",
              "  const outputElement = document.getElementById(outputId);\n",
              "  const steps = outputElement.steps;\n",
              "\n",
              "  const next = steps.next(outputElement.lastPromiseValue);\n",
              "  return Promise.resolve(next.value.promise).then((value) => {\n",
              "    // Cache the last promise value to make it available to the next\n",
              "    // step of the generator.\n",
              "    outputElement.lastPromiseValue = value;\n",
              "    return next.value.response;\n",
              "  });\n",
              "}\n",
              "\n",
              "/**\n",
              " * Generator function which is called between each async step of the upload\n",
              " * process.\n",
              " * @param {string} inputId Element ID of the input file picker element.\n",
              " * @param {string} outputId Element ID of the output display.\n",
              " * @return {!Iterable<!Object>} Iterable of next steps.\n",
              " */\n",
              "function* uploadFilesStep(inputId, outputId) {\n",
              "  const inputElement = document.getElementById(inputId);\n",
              "  inputElement.disabled = false;\n",
              "\n",
              "  const outputElement = document.getElementById(outputId);\n",
              "  outputElement.innerHTML = '';\n",
              "\n",
              "  const pickedPromise = new Promise((resolve) => {\n",
              "    inputElement.addEventListener('change', (e) => {\n",
              "      resolve(e.target.files);\n",
              "    });\n",
              "  });\n",
              "\n",
              "  const cancel = document.createElement('button');\n",
              "  inputElement.parentElement.appendChild(cancel);\n",
              "  cancel.textContent = 'Cancel upload';\n",
              "  const cancelPromise = new Promise((resolve) => {\n",
              "    cancel.onclick = () => {\n",
              "      resolve(null);\n",
              "    };\n",
              "  });\n",
              "\n",
              "  // Wait for the user to pick the files.\n",
              "  const files = yield {\n",
              "    promise: Promise.race([pickedPromise, cancelPromise]),\n",
              "    response: {\n",
              "      action: 'starting',\n",
              "    }\n",
              "  };\n",
              "\n",
              "  cancel.remove();\n",
              "\n",
              "  // Disable the input element since further picks are not allowed.\n",
              "  inputElement.disabled = true;\n",
              "\n",
              "  if (!files) {\n",
              "    return {\n",
              "      response: {\n",
              "        action: 'complete',\n",
              "      }\n",
              "    };\n",
              "  }\n",
              "\n",
              "  for (const file of files) {\n",
              "    const li = document.createElement('li');\n",
              "    li.append(span(file.name, {fontWeight: 'bold'}));\n",
              "    li.append(span(\n",
              "        `(${file.type || 'n/a'}) - ${file.size} bytes, ` +\n",
              "        `last modified: ${\n",
              "            file.lastModifiedDate ? file.lastModifiedDate.toLocaleDateString() :\n",
              "                                    'n/a'} - `));\n",
              "    const percent = span('0% done');\n",
              "    li.appendChild(percent);\n",
              "\n",
              "    outputElement.appendChild(li);\n",
              "\n",
              "    const fileDataPromise = new Promise((resolve) => {\n",
              "      const reader = new FileReader();\n",
              "      reader.onload = (e) => {\n",
              "        resolve(e.target.result);\n",
              "      };\n",
              "      reader.readAsArrayBuffer(file);\n",
              "    });\n",
              "    // Wait for the data to be ready.\n",
              "    let fileData = yield {\n",
              "      promise: fileDataPromise,\n",
              "      response: {\n",
              "        action: 'continue',\n",
              "      }\n",
              "    };\n",
              "\n",
              "    // Use a chunked sending to avoid message size limits. See b/62115660.\n",
              "    let position = 0;\n",
              "    do {\n",
              "      const length = Math.min(fileData.byteLength - position, MAX_PAYLOAD_SIZE);\n",
              "      const chunk = new Uint8Array(fileData, position, length);\n",
              "      position += length;\n",
              "\n",
              "      const base64 = btoa(String.fromCharCode.apply(null, chunk));\n",
              "      yield {\n",
              "        response: {\n",
              "          action: 'append',\n",
              "          file: file.name,\n",
              "          data: base64,\n",
              "        },\n",
              "      };\n",
              "\n",
              "      let percentDone = fileData.byteLength === 0 ?\n",
              "          100 :\n",
              "          Math.round((position / fileData.byteLength) * 100);\n",
              "      percent.textContent = `${percentDone}% done`;\n",
              "\n",
              "    } while (position < fileData.byteLength);\n",
              "  }\n",
              "\n",
              "  // All done.\n",
              "  yield {\n",
              "    response: {\n",
              "      action: 'complete',\n",
              "    }\n",
              "  };\n",
              "}\n",
              "\n",
              "scope.google = scope.google || {};\n",
              "scope.google.colab = scope.google.colab || {};\n",
              "scope.google.colab._files = {\n",
              "  _uploadFiles,\n",
              "  _uploadFilesContinue,\n",
              "};\n",
              "})(self);\n",
              "</script> "
            ]
          },
          "metadata": {}
        },
        {
          "output_type": "stream",
          "name": "stdout",
          "text": [
            "Saving TSLA.csv to TSLA.csv\n"
          ]
        }
      ]
    },
    {
      "cell_type": "code",
      "source": [
        "df = pd.read_csv(\"TSLA.csv\")\n",
        "df.head()"
      ],
      "metadata": {
        "colab": {
          "base_uri": "https://localhost:8080/",
          "height": 206
        },
        "id": "E3I7aVNcYT6R",
        "outputId": "bdceef94-8334-4d18-c710-3f3fb79d5c6a"
      },
      "execution_count": 5,
      "outputs": [
        {
          "output_type": "execute_result",
          "data": {
            "text/plain": [
              "       Date       Open       High        Low      Close  Adj Close     Volume\n",
              "0  3/1/2019  20.462667  20.475332  19.459999  19.652666  19.652666  343671000\n",
              "1  3/4/2019  19.874666  19.933332  18.851999  19.024000  19.024000  256452000\n",
              "2  3/5/2019  18.799999  18.933332  18.006666  18.436001  18.436001  281470500\n",
              "3  3/6/2019  18.431999  18.767332  18.292667  18.416000  18.416000  155032500\n",
              "4  3/7/2019  18.589333  18.980000  18.283333  18.439333  18.439333  141637500"
            ],
            "text/html": [
              "\n",
              "  <div id=\"df-0a5e9eb7-3d56-4cb8-88fa-396c9b96fa6d\">\n",
              "    <div class=\"colab-df-container\">\n",
              "      <div>\n",
              "<style scoped>\n",
              "    .dataframe tbody tr th:only-of-type {\n",
              "        vertical-align: middle;\n",
              "    }\n",
              "\n",
              "    .dataframe tbody tr th {\n",
              "        vertical-align: top;\n",
              "    }\n",
              "\n",
              "    .dataframe thead th {\n",
              "        text-align: right;\n",
              "    }\n",
              "</style>\n",
              "<table border=\"1\" class=\"dataframe\">\n",
              "  <thead>\n",
              "    <tr style=\"text-align: right;\">\n",
              "      <th></th>\n",
              "      <th>Date</th>\n",
              "      <th>Open</th>\n",
              "      <th>High</th>\n",
              "      <th>Low</th>\n",
              "      <th>Close</th>\n",
              "      <th>Adj Close</th>\n",
              "      <th>Volume</th>\n",
              "    </tr>\n",
              "  </thead>\n",
              "  <tbody>\n",
              "    <tr>\n",
              "      <th>0</th>\n",
              "      <td>3/1/2019</td>\n",
              "      <td>20.462667</td>\n",
              "      <td>20.475332</td>\n",
              "      <td>19.459999</td>\n",
              "      <td>19.652666</td>\n",
              "      <td>19.652666</td>\n",
              "      <td>343671000</td>\n",
              "    </tr>\n",
              "    <tr>\n",
              "      <th>1</th>\n",
              "      <td>3/4/2019</td>\n",
              "      <td>19.874666</td>\n",
              "      <td>19.933332</td>\n",
              "      <td>18.851999</td>\n",
              "      <td>19.024000</td>\n",
              "      <td>19.024000</td>\n",
              "      <td>256452000</td>\n",
              "    </tr>\n",
              "    <tr>\n",
              "      <th>2</th>\n",
              "      <td>3/5/2019</td>\n",
              "      <td>18.799999</td>\n",
              "      <td>18.933332</td>\n",
              "      <td>18.006666</td>\n",
              "      <td>18.436001</td>\n",
              "      <td>18.436001</td>\n",
              "      <td>281470500</td>\n",
              "    </tr>\n",
              "    <tr>\n",
              "      <th>3</th>\n",
              "      <td>3/6/2019</td>\n",
              "      <td>18.431999</td>\n",
              "      <td>18.767332</td>\n",
              "      <td>18.292667</td>\n",
              "      <td>18.416000</td>\n",
              "      <td>18.416000</td>\n",
              "      <td>155032500</td>\n",
              "    </tr>\n",
              "    <tr>\n",
              "      <th>4</th>\n",
              "      <td>3/7/2019</td>\n",
              "      <td>18.589333</td>\n",
              "      <td>18.980000</td>\n",
              "      <td>18.283333</td>\n",
              "      <td>18.439333</td>\n",
              "      <td>18.439333</td>\n",
              "      <td>141637500</td>\n",
              "    </tr>\n",
              "  </tbody>\n",
              "</table>\n",
              "</div>\n",
              "      <button class=\"colab-df-convert\" onclick=\"convertToInteractive('df-0a5e9eb7-3d56-4cb8-88fa-396c9b96fa6d')\"\n",
              "              title=\"Convert this dataframe to an interactive table.\"\n",
              "              style=\"display:none;\">\n",
              "        \n",
              "  <svg xmlns=\"http://www.w3.org/2000/svg\" height=\"24px\"viewBox=\"0 0 24 24\"\n",
              "       width=\"24px\">\n",
              "    <path d=\"M0 0h24v24H0V0z\" fill=\"none\"/>\n",
              "    <path d=\"M18.56 5.44l.94 2.06.94-2.06 2.06-.94-2.06-.94-.94-2.06-.94 2.06-2.06.94zm-11 1L8.5 8.5l.94-2.06 2.06-.94-2.06-.94L8.5 2.5l-.94 2.06-2.06.94zm10 10l.94 2.06.94-2.06 2.06-.94-2.06-.94-.94-2.06-.94 2.06-2.06.94z\"/><path d=\"M17.41 7.96l-1.37-1.37c-.4-.4-.92-.59-1.43-.59-.52 0-1.04.2-1.43.59L10.3 9.45l-7.72 7.72c-.78.78-.78 2.05 0 2.83L4 21.41c.39.39.9.59 1.41.59.51 0 1.02-.2 1.41-.59l7.78-7.78 2.81-2.81c.8-.78.8-2.07 0-2.86zM5.41 20L4 18.59l7.72-7.72 1.47 1.35L5.41 20z\"/>\n",
              "  </svg>\n",
              "      </button>\n",
              "      \n",
              "  <style>\n",
              "    .colab-df-container {\n",
              "      display:flex;\n",
              "      flex-wrap:wrap;\n",
              "      gap: 12px;\n",
              "    }\n",
              "\n",
              "    .colab-df-convert {\n",
              "      background-color: #E8F0FE;\n",
              "      border: none;\n",
              "      border-radius: 50%;\n",
              "      cursor: pointer;\n",
              "      display: none;\n",
              "      fill: #1967D2;\n",
              "      height: 32px;\n",
              "      padding: 0 0 0 0;\n",
              "      width: 32px;\n",
              "    }\n",
              "\n",
              "    .colab-df-convert:hover {\n",
              "      background-color: #E2EBFA;\n",
              "      box-shadow: 0px 1px 2px rgba(60, 64, 67, 0.3), 0px 1px 3px 1px rgba(60, 64, 67, 0.15);\n",
              "      fill: #174EA6;\n",
              "    }\n",
              "\n",
              "    [theme=dark] .colab-df-convert {\n",
              "      background-color: #3B4455;\n",
              "      fill: #D2E3FC;\n",
              "    }\n",
              "\n",
              "    [theme=dark] .colab-df-convert:hover {\n",
              "      background-color: #434B5C;\n",
              "      box-shadow: 0px 1px 3px 1px rgba(0, 0, 0, 0.15);\n",
              "      filter: drop-shadow(0px 1px 2px rgba(0, 0, 0, 0.3));\n",
              "      fill: #FFFFFF;\n",
              "    }\n",
              "  </style>\n",
              "\n",
              "      <script>\n",
              "        const buttonEl =\n",
              "          document.querySelector('#df-0a5e9eb7-3d56-4cb8-88fa-396c9b96fa6d button.colab-df-convert');\n",
              "        buttonEl.style.display =\n",
              "          google.colab.kernel.accessAllowed ? 'block' : 'none';\n",
              "\n",
              "        async function convertToInteractive(key) {\n",
              "          const element = document.querySelector('#df-0a5e9eb7-3d56-4cb8-88fa-396c9b96fa6d');\n",
              "          const dataTable =\n",
              "            await google.colab.kernel.invokeFunction('convertToInteractive',\n",
              "                                                     [key], {});\n",
              "          if (!dataTable) return;\n",
              "\n",
              "          const docLinkHtml = 'Like what you see? Visit the ' +\n",
              "            '<a target=\"_blank\" href=https://colab.research.google.com/notebooks/data_table.ipynb>data table notebook</a>'\n",
              "            + ' to learn more about interactive tables.';\n",
              "          element.innerHTML = '';\n",
              "          dataTable['output_type'] = 'display_data';\n",
              "          await google.colab.output.renderOutput(dataTable, element);\n",
              "          const docLink = document.createElement('div');\n",
              "          docLink.innerHTML = docLinkHtml;\n",
              "          element.appendChild(docLink);\n",
              "        }\n",
              "      </script>\n",
              "    </div>\n",
              "  </div>\n",
              "  "
            ]
          },
          "metadata": {},
          "execution_count": 5
        }
      ]
    },
    {
      "cell_type": "code",
      "source": [
        "print(df.shape)\n",
        "df[['Close']].plot()\n",
        "plt.title(\"Tesla\")\n",
        "plt.show()"
      ],
      "metadata": {
        "colab": {
          "base_uri": "https://localhost:8080/",
          "height": 298
        },
        "id": "CvRrKmISZGbY",
        "outputId": "b368aabb-622e-4ab8-bb3f-fabee5a75f75"
      },
      "execution_count": 6,
      "outputs": [
        {
          "output_type": "stream",
          "name": "stdout",
          "text": [
            "(1020, 7)\n"
          ]
        },
        {
          "output_type": "display_data",
          "data": {
            "text/plain": [
              "<Figure size 432x288 with 1 Axes>"
            ],
            "image/png": "[encoded data removed]"
          },
          "metadata": {
            "needs_background": "light"
          }
        }
      ]
    },
    {
      "cell_type": "code",
      "metadata": {
        "id": "Zswl7jRtGzkk"
      },
      "source": [
        "def plot_series(time, series, format=\"-\", label=None, start=0, end=None):\n",
        "    plt.plot(time[start:end], series[start:end], format, label=label)\n",
        "    plt.xlabel(\"Time\")\n",
        "    plt.ylabel(\"Value\")\n",
        "    plt.grid(True)\n",
        "    plt.legend()\n",
        "\n",
        "series = tf.convert_to_tensor(df['Close'])\n",
        "time = np.arange(1020)\n",
        "\n",
        "split_time = 1000 #SET THE SPLIT_TIME\n",
        "time_train = time[:split_time]\n",
        "x_train = series[:split_time]\n",
        "time_valid = time[split_time:]\n",
        "x_valid = series[split_time:]\n",
        "\n",
        "window_size = 20 #SET THE WINDOW_SIZE\n",
        "batch_size = 32 #SET THE BATCH_SIZE\n",
        "shuffle_buffer_size = 1000 #SET THE SHUFFLE_BUFFER_SIZE"
      ],
      "execution_count": 7,
      "outputs": []
    },
    {
      "cell_type": "code",
      "metadata": {
        "id": "tVH2XEt4yA4m",
        "colab": {
          "base_uri": "https://localhost:8080/",
          "height": 391
        },
        "outputId": "6f96bb82-48b8-496f-cea1-ac351ffce44a"
      },
      "source": [
        "plt.figure(figsize=(10, 6))\n",
        "plot_series(time_valid, x_valid, label='val_data')"
      ],
      "execution_count": 8,
      "outputs": [
        {
          "output_type": "display_data",
          "data": {
            "text/plain": [
              "<Figure size 720x432 with 1 Axes>"
            ],
            "image/png": "[encoded data removed]"
          },
          "metadata": {
            "needs_background": "light"
          }
        }
      ]
    },
    {
      "cell_type": "code",
      "metadata": {
        "id": "4sTTIOCbyShY"
      },
      "source": [
        "def windowed_dataset(series, window_size, batch_size, shuffle_buffer):\n",
        "  dataset = tf.data.Dataset.from_tensor_slices(series)\n",
        "  dataset = dataset.window(window_size + 1, shift=1, drop_remainder=True)\n",
        "  dataset = dataset.flat_map(lambda window: window.batch(window_size + 1))\n",
        "  dataset = dataset.shuffle(shuffle_buffer).map(lambda window: (window[:-1], window[-1]))\n",
        "  dataset = dataset.batch(batch_size).prefetch(1)\n",
        "  return dataset"
      ],
      "execution_count": 9,
      "outputs": []
    },
    {
      "cell_type": "code",
      "metadata": {
        "id": "TW-vT7eLYAdb",
        "colab": {
          "base_uri": "https://localhost:8080/"
        },
        "outputId": "2984505e-8e81-4c84-8483-139e8be50fa8"
      },
      "source": [
        "dataset = windowed_dataset(x_train, window_size, batch_size, shuffle_buffer_size)\n",
        "\n",
        "model = tf.keras.models.Sequential([\n",
        "    tf.keras.layers.Dense(16, input_shape=[window_size], activation=\"relu\"), \n",
        "    #YOU MAY OR MAY NOT ADD LAYERS\n",
        "    tf.keras.layers.Dense(1)\n",
        "])\n",
        "\n",
        "model.compile(loss=\"mse\", optimizer=tf.keras.optimizers.SGD(learning_rate=1e-8, momentum=0.9)) #YOU MAY OR MAY NOT CHANGE THE LEARNING_RATE\n",
        "model.fit(dataset,epochs=100,verbose=2) #DO NOT CHANGE EPOCHS, LEAVE IT AT 100\n",
        "\n"
      ],
      "execution_count": 10,
      "outputs": [
        {
          "output_type": "stream",
          "name": "stderr",
          "text": [
            "WARNING:tensorflow:From /usr/local/lib/python3.9/dist-packages/tensorflow/python/autograph/pyct/static_analysis/liveness.py:83: Analyzer.lamba_check (from tensorflow.python.autograph.pyct.static_analysis.liveness) is deprecated and will be removed after 2023-09-23.\n",
            "Instructions for updating:\n",
            "Lambda fuctions will be no more assumed to be used in the statement where they are used, or at least in the same block. https://github.com/tensorflow/tensorflow/issues/56089\n"
          ]
        },
        {
          "output_type": "stream",
          "name": "stdout",
          "text": [
            "Epoch 1/100\n",
            "31/31 - 7s - loss: 4976.4619 - 7s/epoch - 241ms/step\n",
            "Epoch 2/100\n",
            "31/31 - 0s - loss: 240.5021 - 316ms/epoch - 10ms/step\n",
            "Epoch 3/100\n",
            "31/31 - 0s - loss: 158.4695 - 328ms/epoch - 11ms/step\n",
            "Epoch 4/100\n",
            "31/31 - 0s - loss: 155.2587 - 302ms/epoch - 10ms/step\n",
            "Epoch 5/100\n",
            "31/31 - 0s - loss: 152.7564 - 176ms/epoch - 6ms/step\n",
            "Epoch 6/100\n",
            "31/31 - 0s - loss: 150.9034 - 161ms/epoch - 5ms/step\n",
            "Epoch 7/100\n",
            "31/31 - 0s - loss: 148.9012 - 148ms/epoch - 5ms/step\n",
            "Epoch 8/100\n",
            "31/31 - 0s - loss: 147.3004 - 149ms/epoch - 5ms/step\n",
            "Epoch 9/100\n",
            "31/31 - 0s - loss: 144.8748 - 142ms/epoch - 5ms/step\n",
            "Epoch 10/100\n",
            "31/31 - 0s - loss: 143.4885 - 150ms/epoch - 5ms/step\n",
            "Epoch 11/100\n",
            "31/31 - 0s - loss: 142.1353 - 163ms/epoch - 5ms/step\n",
            "Epoch 12/100\n",
            "31/31 - 0s - loss: 140.3681 - 163ms/epoch - 5ms/step\n",
            "Epoch 13/100\n",
            "31/31 - 0s - loss: 138.8104 - 141ms/epoch - 5ms/step\n",
            "Epoch 14/100\n",
            "31/31 - 0s - loss: 138.5135 - 142ms/epoch - 5ms/step\n",
            "Epoch 15/100\n",
            "31/31 - 0s - loss: 135.9258 - 158ms/epoch - 5ms/step\n",
            "Epoch 16/100\n",
            "31/31 - 0s - loss: 135.6269 - 143ms/epoch - 5ms/step\n",
            "Epoch 17/100\n",
            "31/31 - 0s - loss: 134.3814 - 164ms/epoch - 5ms/step\n",
            "Epoch 18/100\n",
            "31/31 - 0s - loss: 132.8425 - 140ms/epoch - 5ms/step\n",
            "Epoch 19/100\n",
            "31/31 - 0s - loss: 132.1620 - 141ms/epoch - 5ms/step\n",
            "Epoch 20/100\n",
            "31/31 - 0s - loss: 130.8491 - 149ms/epoch - 5ms/step\n",
            "Epoch 21/100\n",
            "31/31 - 0s - loss: 130.7091 - 147ms/epoch - 5ms/step\n",
            "Epoch 22/100\n",
            "31/31 - 0s - loss: 128.4360 - 149ms/epoch - 5ms/step\n",
            "Epoch 23/100\n",
            "31/31 - 0s - loss: 127.4059 - 146ms/epoch - 5ms/step\n",
            "Epoch 24/100\n",
            "31/31 - 0s - loss: 126.3980 - 149ms/epoch - 5ms/step\n",
            "Epoch 25/100\n",
            "31/31 - 0s - loss: 126.0114 - 161ms/epoch - 5ms/step\n",
            "Epoch 26/100\n",
            "31/31 - 0s - loss: 125.6350 - 153ms/epoch - 5ms/step\n",
            "Epoch 27/100\n",
            "31/31 - 0s - loss: 124.4580 - 149ms/epoch - 5ms/step\n",
            "Epoch 28/100\n",
            "31/31 - 0s - loss: 124.1335 - 149ms/epoch - 5ms/step\n",
            "Epoch 29/100\n",
            "31/31 - 0s - loss: 122.6524 - 127ms/epoch - 4ms/step\n",
            "Epoch 30/100\n",
            "31/31 - 0s - loss: 122.0973 - 156ms/epoch - 5ms/step\n",
            "Epoch 31/100\n",
            "31/31 - 0s - loss: 121.8005 - 136ms/epoch - 4ms/step\n",
            "Epoch 32/100\n",
            "31/31 - 0s - loss: 121.7353 - 163ms/epoch - 5ms/step\n",
            "Epoch 33/100\n",
            "31/31 - 0s - loss: 120.3949 - 154ms/epoch - 5ms/step\n",
            "Epoch 34/100\n",
            "31/31 - 0s - loss: 120.0836 - 141ms/epoch - 5ms/step\n",
            "Epoch 35/100\n",
            "31/31 - 0s - loss: 119.6120 - 164ms/epoch - 5ms/step\n",
            "Epoch 36/100\n",
            "31/31 - 0s - loss: 119.2223 - 153ms/epoch - 5ms/step\n",
            "Epoch 37/100\n",
            "31/31 - 0s - loss: 118.5097 - 139ms/epoch - 4ms/step\n",
            "Epoch 38/100\n",
            "31/31 - 0s - loss: 119.1169 - 141ms/epoch - 5ms/step\n",
            "Epoch 39/100\n",
            "31/31 - 0s - loss: 119.0171 - 175ms/epoch - 6ms/step\n",
            "Epoch 40/100\n",
            "31/31 - 0s - loss: 117.3994 - 268ms/epoch - 9ms/step\n",
            "Epoch 41/100\n",
            "31/31 - 0s - loss: 118.1805 - 256ms/epoch - 8ms/step\n",
            "Epoch 42/100\n",
            "31/31 - 0s - loss: 117.3572 - 293ms/epoch - 9ms/step\n",
            "Epoch 43/100\n",
            "31/31 - 0s - loss: 116.2933 - 308ms/epoch - 10ms/step\n",
            "Epoch 44/100\n",
            "31/31 - 0s - loss: 115.7097 - 278ms/epoch - 9ms/step\n",
            "Epoch 45/100\n",
            "31/31 - 0s - loss: 115.3838 - 133ms/epoch - 4ms/step\n",
            "Epoch 46/100\n",
            "31/31 - 0s - loss: 115.3378 - 142ms/epoch - 5ms/step\n",
            "Epoch 47/100\n",
            "31/31 - 0s - loss: 114.7213 - 149ms/epoch - 5ms/step\n",
            "Epoch 48/100\n",
            "31/31 - 0s - loss: 114.3165 - 154ms/epoch - 5ms/step\n",
            "Epoch 49/100\n",
            "31/31 - 0s - loss: 114.5612 - 153ms/epoch - 5ms/step\n",
            "Epoch 50/100\n",
            "31/31 - 0s - loss: 113.7948 - 138ms/epoch - 4ms/step\n",
            "Epoch 51/100\n",
            "31/31 - 0s - loss: 113.7291 - 148ms/epoch - 5ms/step\n",
            "Epoch 52/100\n",
            "31/31 - 0s - loss: 113.6037 - 161ms/epoch - 5ms/step\n",
            "Epoch 53/100\n",
            "31/31 - 0s - loss: 114.1109 - 145ms/epoch - 5ms/step\n",
            "Epoch 54/100\n",
            "31/31 - 0s - loss: 112.9160 - 165ms/epoch - 5ms/step\n",
            "Epoch 55/100\n",
            "31/31 - 0s - loss: 112.6691 - 146ms/epoch - 5ms/step\n",
            "Epoch 56/100\n",
            "31/31 - 0s - loss: 113.1399 - 158ms/epoch - 5ms/step\n",
            "Epoch 57/100\n",
            "31/31 - 0s - loss: 112.1976 - 143ms/epoch - 5ms/step\n",
            "Epoch 58/100\n",
            "31/31 - 0s - loss: 112.0089 - 161ms/epoch - 5ms/step\n",
            "Epoch 59/100\n",
            "31/31 - 0s - loss: 111.7923 - 140ms/epoch - 5ms/step\n",
            "Epoch 60/100\n",
            "31/31 - 0s - loss: 111.6532 - 142ms/epoch - 5ms/step\n",
            "Epoch 61/100\n",
            "31/31 - 0s - loss: 111.5893 - 140ms/epoch - 5ms/step\n",
            "Epoch 62/100\n",
            "31/31 - 0s - loss: 111.3390 - 156ms/epoch - 5ms/step\n",
            "Epoch 63/100\n",
            "31/31 - 0s - loss: 111.5326 - 142ms/epoch - 5ms/step\n",
            "Epoch 64/100\n",
            "31/31 - 0s - loss: 111.0104 - 151ms/epoch - 5ms/step\n",
            "Epoch 65/100\n",
            "31/31 - 0s - loss: 111.5222 - 151ms/epoch - 5ms/step\n",
            "Epoch 66/100\n",
            "31/31 - 0s - loss: 111.1639 - 163ms/epoch - 5ms/step\n",
            "Epoch 67/100\n",
            "31/31 - 0s - loss: 110.8818 - 148ms/epoch - 5ms/step\n",
            "Epoch 68/100\n",
            "31/31 - 0s - loss: 110.8005 - 147ms/epoch - 5ms/step\n",
            "Epoch 69/100\n",
            "31/31 - 0s - loss: 111.4605 - 142ms/epoch - 5ms/step\n",
            "Epoch 70/100\n",
            "31/31 - 0s - loss: 110.7952 - 152ms/epoch - 5ms/step\n",
            "Epoch 71/100\n",
            "31/31 - 0s - loss: 110.0576 - 161ms/epoch - 5ms/step\n",
            "Epoch 72/100\n",
            "31/31 - 0s - loss: 110.4137 - 138ms/epoch - 4ms/step\n",
            "Epoch 73/100\n",
            "31/31 - 0s - loss: 109.6860 - 161ms/epoch - 5ms/step\n",
            "Epoch 74/100\n",
            "31/31 - 0s - loss: 109.9211 - 141ms/epoch - 5ms/step\n",
            "Epoch 75/100\n",
            "31/31 - 0s - loss: 110.3176 - 147ms/epoch - 5ms/step\n",
            "Epoch 76/100\n",
            "31/31 - 0s - loss: 109.9636 - 156ms/epoch - 5ms/step\n",
            "Epoch 77/100\n",
            "31/31 - 0s - loss: 109.1083 - 192ms/epoch - 6ms/step\n",
            "Epoch 78/100\n",
            "31/31 - 0s - loss: 109.6010 - 145ms/epoch - 5ms/step\n",
            "Epoch 79/100\n",
            "31/31 - 0s - loss: 109.4513 - 152ms/epoch - 5ms/step\n",
            "Epoch 80/100\n",
            "31/31 - 0s - loss: 109.0593 - 148ms/epoch - 5ms/step\n",
            "Epoch 81/100\n",
            "31/31 - 0s - loss: 109.1382 - 164ms/epoch - 5ms/step\n",
            "Epoch 82/100\n",
            "31/31 - 0s - loss: 109.0165 - 143ms/epoch - 5ms/step\n",
            "Epoch 83/100\n",
            "31/31 - 0s - loss: 108.8016 - 138ms/epoch - 4ms/step\n",
            "Epoch 84/100\n",
            "31/31 - 0s - loss: 108.3784 - 134ms/epoch - 4ms/step\n",
            "Epoch 85/100\n",
            "31/31 - 0s - loss: 108.7120 - 148ms/epoch - 5ms/step\n",
            "Epoch 86/100\n",
            "31/31 - 0s - loss: 109.0715 - 275ms/epoch - 9ms/step\n",
            "Epoch 87/100\n",
            "31/31 - 0s - loss: 108.2338 - 278ms/epoch - 9ms/step\n",
            "Epoch 88/100\n",
            "31/31 - 0s - loss: 108.6567 - 266ms/epoch - 9ms/step\n",
            "Epoch 89/100\n",
            "31/31 - 0s - loss: 108.4410 - 280ms/epoch - 9ms/step\n",
            "Epoch 90/100\n",
            "31/31 - 0s - loss: 108.7509 - 266ms/epoch - 9ms/step\n",
            "Epoch 91/100\n",
            "31/31 - 0s - loss: 109.5047 - 266ms/epoch - 9ms/step\n",
            "Epoch 92/100\n",
            "31/31 - 0s - loss: 108.2712 - 293ms/epoch - 9ms/step\n",
            "Epoch 93/100\n",
            "31/31 - 0s - loss: 107.7974 - 164ms/epoch - 5ms/step\n",
            "Epoch 94/100\n",
            "31/31 - 0s - loss: 107.9795 - 170ms/epoch - 5ms/step\n",
            "Epoch 95/100\n",
            "31/31 - 0s - loss: 107.7256 - 149ms/epoch - 5ms/step\n",
            "Epoch 96/100\n",
            "31/31 - 0s - loss: 108.2329 - 139ms/epoch - 4ms/step\n",
            "Epoch 97/100\n",
            "31/31 - 0s - loss: 107.3257 - 186ms/epoch - 6ms/step\n",
            "Epoch 98/100\n",
            "31/31 - 0s - loss: 107.7705 - 152ms/epoch - 5ms/step\n",
            "Epoch 99/100\n",
            "31/31 - 0s - loss: 107.0312 - 153ms/epoch - 5ms/step\n",
            "Epoch 100/100\n",
            "31/31 - 0s - loss: 107.6036 - 152ms/epoch - 5ms/step\n"
          ]
        },
        {
          "output_type": "execute_result",
          "data": {
            "text/plain": [
              "<keras.callbacks.History at 0x7f85f0b32670>"
            ]
          },
          "metadata": {},
          "execution_count": 10
        }
      ]
    },
    {
      "cell_type": "code",
      "source": [
        "forecast = []\n",
        "for time in range(len(series) - window_size):\n",
        "  forecast.append(model.predict(series[time:time + window_size][np.newaxis], verbose=0))\n",
        "\n",
        "forecast = forecast[split_time-window_size:]\n",
        "results = np.array(forecast)[:, 0, 0]\n",
        "\n",
        "plt.figure(figsize=(10, 6))\n",
        "\n",
        "plot_series(time_valid, x_valid, label='actual')\n",
        "plot_series(time_valid, results, label='predicted')\n",
        "\n",
        "tf.keras.metrics.mean_absolute_error(x_valid, results).numpy()\n",
        "\n",
        "# MAE = 6.0492034"
      ],
      "metadata": {
        "id": "L-Wap8er5DMK",
        "colab": {
          "base_uri": "https://localhost:8080/",
          "height": 409
        },
        "outputId": "7fe68b7a-08fd-4fda-f97c-a37d6367cdd9"
      },
      "execution_count": 11,
      "outputs": [
        {
          "output_type": "execute_result",
          "data": {
            "text/plain": [
              "6.0492034"
            ]
          },
          "metadata": {},
          "execution_count": 11
        },
        {
          "output_type": "display_data",
          "data": {
            "text/plain": [
              "<Figure size 720x432 with 1 Axes>"
            ],
            "image/png": "[encoded data removed]"
          },
          "metadata": {
            "needs_background": "light"
          }
        }
      ]
    }
  ]
}